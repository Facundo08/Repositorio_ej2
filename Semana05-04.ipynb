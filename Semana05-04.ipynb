{
 "cells": [
  {
   "cell_type": "raw",
   "id": "04cefd12",
   "metadata": {},
   "source": [
    "Semana 05\n",
    "Facundo Moreno"
   ]
  },
  {
   "cell_type": "raw",
   "id": "e3d652c3",
   "metadata": {},
   "source": [
    "4.clases y objetos"
   ]
  },
  {
   "cell_type": "code",
   "execution_count": 3,
   "id": "9062fdd9",
   "metadata": {},
   "outputs": [],
   "source": [
    "class Persona:\n",
    "    nombre = \"\"\n",
    "    dni = \"\"\n",
    "    talla = 0"
   ]
  },
  {
   "cell_type": "code",
   "execution_count": 7,
   "id": "671df474",
   "metadata": {},
   "outputs": [
    {
     "name": "stdout",
     "output_type": "stream",
     "text": [
      "persona1\n",
      "Nombre:Brandon\n",
      "Apellidos: Isla Cconislla\n",
      "DNI:12345678\n",
      "Talla:1.6\n"
     ]
    }
   ],
   "source": [
    "persona1 =  Persona()\n",
    "\n",
    "persona1.nombre = \"Brandon\"\n",
    "persona1.apellidos = \" Isla Cconislla\"\n",
    "persona1.dni = \"12345678\"\n",
    "persona1.talla = 1.6\n",
    "\n",
    "print(\"persona1\")\n",
    "print(f\"Nombre:{persona1.nombre}\")\n",
    "print(f\"Apellidos:{persona1.apellidos}\")\n",
    "print(f\"DNI:{persona1.dni}\")\n",
    "print(f\"Talla:{persona1.talla}\")"
   ]
  },
  {
   "cell_type": "code",
   "execution_count": 11,
   "id": "ae55af90",
   "metadata": {},
   "outputs": [],
   "source": [
    "class curso:\n",
    "    def __init__(self,codigo,nombre,horas,creditos):\n",
    "        self.codigo = codigo\n",
    "        self.nombre = nombre\n",
    "        self.horas = horas\n",
    "        self.creditos = creditos\n",
    "    def mostrar_datos_curso(self):\n",
    "        print(f\"Curso:{self.nombre}\" )\n",
    "        print(f\"Codigo:{self.codigo}\" )\n",
    "        print(f\"Curso:{self.horas}\")\n",
    "        print(f\"Curso:{self.creditos}\" )     "
   ]
  },
  {
   "cell_type": "code",
   "execution_count": 12,
   "id": "ceff2464",
   "metadata": {},
   "outputs": [],
   "source": [
    "curso1 = curso(\"C0501\",\"LP3\",6,3)"
   ]
  },
  {
   "cell_type": "code",
   "execution_count": 14,
   "id": "e4ec0447",
   "metadata": {},
   "outputs": [
    {
     "name": "stdout",
     "output_type": "stream",
     "text": [
      "Curso:LP3\n",
      "Codigo:C0501\n",
      "Curso:6\n",
      "Curso:3\n"
     ]
    }
   ],
   "source": [
    "curso1.mostrar_datos_curso();"
   ]
  },
  {
   "cell_type": "code",
   "execution_count": null,
   "id": "e3c5bfc4",
   "metadata": {},
   "outputs": [],
   "source": []
  }
 ],
 "metadata": {
  "kernelspec": {
   "display_name": "Python 3 (ipykernel)",
   "language": "python",
   "name": "python3"
  },
  "language_info": {
   "codemirror_mode": {
    "name": "ipython",
    "version": 3
   },
   "file_extension": ".py",
   "mimetype": "text/x-python",
   "name": "python",
   "nbconvert_exporter": "python",
   "pygments_lexer": "ipython3",
   "version": "3.9.12"
  }
 },
 "nbformat": 4,
 "nbformat_minor": 5
}
