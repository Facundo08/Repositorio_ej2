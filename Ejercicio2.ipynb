{
 "cells": [
  {
   "cell_type": "markdown",
   "id": "9c57f32c",
   "metadata": {},
   "source": [
    "# SEMANA 5 \n"
   ]
  },
  {
   "cell_type": "markdown",
   "id": "d968621d",
   "metadata": {},
   "source": [
    "Facundo Rafael Moreno Mernacho"
   ]
  },
  {
   "cell_type": "raw",
   "id": "c40d3d80",
   "metadata": {},
   "source": [
    "Temas\n",
    "1. Colecciones de datos\n",
    "2. Estructuras Decisivas y estructuras Repetitivas\n",
    "3. Clases y objetos\n",
    "4. Funciones"
   ]
  },
  {
   "cell_type": "code",
   "execution_count": 1,
   "id": "e9e88026",
   "metadata": {},
   "outputs": [
    {
     "data": {
      "text/plain": [
       "{'Gomez', 'Navarro', 'bernaola', 'chipanma'}"
      ]
     },
     "execution_count": 1,
     "metadata": {},
     "output_type": "execute_result"
    }
   ],
   "source": [
    "tupla_aula = {'bernaola', 'chipanma','Gomez','Navarro'}\n",
    "tupla_aula"
   ]
  },
  {
   "cell_type": "code",
   "execution_count": 3,
   "id": "de227b75",
   "metadata": {},
   "outputs": [
    {
     "ename": "TypeError",
     "evalue": "'set' object is not subscriptable",
     "output_type": "error",
     "traceback": [
      "\u001b[1;31m---------------------------------------------------------------------------\u001b[0m",
      "\u001b[1;31mTypeError\u001b[0m                                 Traceback (most recent call last)",
      "Input \u001b[1;32mIn [3]\u001b[0m, in \u001b[0;36m<cell line: 1>\u001b[1;34m()\u001b[0m\n\u001b[1;32m----> 1\u001b[0m \u001b[43mtupla_aula\u001b[49m\u001b[43m[\u001b[49m\u001b[38;5;241;43m2\u001b[39;49m\u001b[43m]\u001b[49m\n",
      "\u001b[1;31mTypeError\u001b[0m: 'set' object is not subscriptable"
     ]
    }
   ],
   "source": [
    "tupla_aula[2]"
   ]
  },
  {
   "cell_type": "code",
   "execution_count": 4,
   "id": "e492cb20",
   "metadata": {},
   "outputs": [
    {
     "data": {
      "text/plain": [
       "4"
      ]
     },
     "execution_count": 4,
     "metadata": {},
     "output_type": "execute_result"
    }
   ],
   "source": [
    "len(tupla_aula)"
   ]
  },
  {
   "cell_type": "code",
   "execution_count": 5,
   "id": "800a3cdc",
   "metadata": {},
   "outputs": [
    {
     "data": {
      "text/plain": [
       "4"
      ]
     },
     "execution_count": 5,
     "metadata": {},
     "output_type": "execute_result"
    }
   ],
   "source": [
    "conjunto_aula = {'Ramon','Moreno','Pascacio','Luque'}\n",
    "len(conjunto_aula)"
   ]
  },
  {
   "cell_type": "code",
   "execution_count": 6,
   "id": "e6c99869",
   "metadata": {},
   "outputs": [
    {
     "name": "stdout",
     "output_type": "stream",
     "text": [
      "Ramon\n",
      "Pascacio\n",
      "Moreno\n",
      "Luque\n"
     ]
    }
   ],
   "source": [
    "for alumno in conjunto_aula:\n",
    "    print(alumno)"
   ]
  },
  {
   "cell_type": "code",
   "execution_count": 7,
   "id": "ef196240",
   "metadata": {},
   "outputs": [
    {
     "ename": "TypeError",
     "evalue": "'set' object is not subscriptable",
     "output_type": "error",
     "traceback": [
      "\u001b[1;31m---------------------------------------------------------------------------\u001b[0m",
      "\u001b[1;31mTypeError\u001b[0m                                 Traceback (most recent call last)",
      "Input \u001b[1;32mIn [7]\u001b[0m, in \u001b[0;36m<cell line: 1>\u001b[1;34m()\u001b[0m\n\u001b[1;32m----> 1\u001b[0m \u001b[43mconjunto_aula\u001b[49m\u001b[43m[\u001b[49m\u001b[38;5;241;43m2\u001b[39;49m\u001b[43m]\u001b[49m\n",
      "\u001b[1;31mTypeError\u001b[0m: 'set' object is not subscriptable"
     ]
    }
   ],
   "source": [
    "conjunto_aula[2]"
   ]
  },
  {
   "cell_type": "code",
   "execution_count": 8,
   "id": "4f802f5e",
   "metadata": {},
   "outputs": [
    {
     "data": {
      "text/plain": [
       "{'Luque', 'Moreno', 'Palomino', 'Pascacio', 'Ramon'}"
      ]
     },
     "execution_count": 8,
     "metadata": {},
     "output_type": "execute_result"
    }
   ],
   "source": [
    "conjunto_aula.add(\"Palomino\")\n",
    "conjunto_aula"
   ]
  },
  {
   "cell_type": "code",
   "execution_count": 9,
   "id": "6f0f413a",
   "metadata": {},
   "outputs": [
    {
     "data": {
      "text/plain": [
       "{'Moreno', 'Palomino', 'Pascacio', 'Ramon'}"
      ]
     },
     "execution_count": 9,
     "metadata": {},
     "output_type": "execute_result"
    }
   ],
   "source": [
    "conjunto_aula.remove(\"Luque\")\n",
    "conjunto_aula"
   ]
  },
  {
   "cell_type": "code",
   "execution_count": 10,
   "id": "2040a987",
   "metadata": {},
   "outputs": [
    {
     "data": {
      "text/plain": [
       "{2: 'Bernaola', '1': 'Luque', 'dos': 'Pascacio', '3': 'Navarro', '0': 'Lopez'}"
      ]
     },
     "execution_count": 10,
     "metadata": {},
     "output_type": "execute_result"
    }
   ],
   "source": [
    "diccionario_aula = {2:'Bernaola', '1':'Luque','dos':'Pascacio','3':'Navarro', '0':'Lopez'}\n",
    "diccionario_aula"
   ]
  },
  {
   "cell_type": "code",
   "execution_count": 11,
   "id": "4cfc40e3",
   "metadata": {},
   "outputs": [
    {
     "data": {
      "text/plain": [
       "'Lopez'"
      ]
     },
     "execution_count": 11,
     "metadata": {},
     "output_type": "execute_result"
    }
   ],
   "source": [
    "diccionario_aula['0']"
   ]
  },
  {
   "cell_type": "code",
   "execution_count": 12,
   "id": "326efcc7",
   "metadata": {},
   "outputs": [
    {
     "data": {
      "text/plain": [
       "'Bernaola'"
      ]
     },
     "execution_count": 12,
     "metadata": {},
     "output_type": "execute_result"
    }
   ],
   "source": [
    "diccionario_aula[2]"
   ]
  },
  {
   "cell_type": "code",
   "execution_count": 13,
   "id": "839db00c",
   "metadata": {},
   "outputs": [
    {
     "data": {
      "text/plain": [
       "'Luque'"
      ]
     },
     "execution_count": 13,
     "metadata": {},
     "output_type": "execute_result"
    }
   ],
   "source": [
    "diccionario_aula['1']"
   ]
  },
  {
   "cell_type": "code",
   "execution_count": 14,
   "id": "987f3e92",
   "metadata": {},
   "outputs": [
    {
     "data": {
      "text/plain": [
       "{2: 'Bernaola',\n",
       " '1': 'Luque',\n",
       " 'dos': 'Pascacio',\n",
       " '3': 'Navarro',\n",
       " '0': 'Lopez',\n",
       " '20': 'Tenorio'}"
      ]
     },
     "execution_count": 14,
     "metadata": {},
     "output_type": "execute_result"
    }
   ],
   "source": [
    "diccionario_aula['20'] = \"Tenorio\"\n",
    "diccionario_aula"
   ]
  },
  {
   "cell_type": "code",
   "execution_count": 15,
   "id": "4809e43b",
   "metadata": {},
   "outputs": [
    {
     "data": {
      "text/plain": [
       "{'1': 'Luque',\n",
       " 'dos': 'Pascacio',\n",
       " '3': 'Navarro',\n",
       " '0': 'Lopez',\n",
       " '20': 'Tenorio'}"
      ]
     },
     "execution_count": 15,
     "metadata": {},
     "output_type": "execute_result"
    }
   ],
   "source": [
    "diccionario_aula.pop(2)\n",
    "diccionario_aula"
   ]
  },
  {
   "cell_type": "code",
   "execution_count": 16,
   "id": "92f9aacf",
   "metadata": {},
   "outputs": [
    {
     "data": {
      "text/plain": [
       "{'1': 'Luque', '3': 'Navarro', '0': 'Lopez', '20': 'Tenorio'}"
      ]
     },
     "execution_count": 16,
     "metadata": {},
     "output_type": "execute_result"
    }
   ],
   "source": [
    "del(diccionario_aula[\"dos\"])\n",
    "diccionario_aula"
   ]
  },
  {
   "cell_type": "code",
   "execution_count": 17,
   "id": "9431d3f9",
   "metadata": {},
   "outputs": [
    {
     "name": "stdout",
     "output_type": "stream",
     "text": [
      "1\n",
      "3\n",
      "0\n",
      "20\n"
     ]
    }
   ],
   "source": [
    "for indice in diccionario_aula:\n",
    "    print(indice)"
   ]
  },
  {
   "cell_type": "code",
   "execution_count": 1,
   "id": "7576263c",
   "metadata": {},
   "outputs": [
    {
     "name": "stdout",
     "output_type": "stream",
     "text": [
      "Ingrese apellido: GARCIA\n",
      "El apellido 'GARCIA' está en la lista \n"
     ]
    }
   ],
   "source": [
    "apellido = input(\"Ingrese apellido: \")\n",
    "apellido = apellido.upper()\n",
    "estudiantes_lp3 = {'FIGUEROA', 'GARCIA', 'GUTIERREZ', 'ISLA', 'LOPEZ', 'LUQUE', 'MAMANI', 'MARCANI','MONDRAGON','MORENO', 'MUÑOZ', 'NAVARRO', 'OTAZU', 'PASCACIO', 'RAMON', 'TENORIO', 'VEGAS'}\n",
    "if apellido in estudiantes_lp3:\n",
    "    print(f\"El apellido '{apellido}' está en la lista \")\n",
    "else:\n",
    "    print(f\"El apellido '{apellido}' no está en la lista\")"
   ]
  },
  {
   "cell_type": "code",
   "execution_count": 1,
   "id": "40a91c6d",
   "metadata": {},
   "outputs": [
    {
     "name": "stdout",
     "output_type": "stream",
     "text": [
      "Producto 1 : 1\n",
      "Producto 2 : 2\n",
      "Producto 3 : 3\n"
     ]
    }
   ],
   "source": [
    "p1 = float(input(\"Producto 1 : \"))\n",
    "p2 = float(input(\"Producto 2 : \"))\n",
    "p3 = float(input(\"Producto 3 : \"))\n",
    "total = p1 + p2 + p3"
   ]
  },
  {
   "cell_type": "code",
   "execution_count": null,
   "id": "45105d72",
   "metadata": {},
   "outputs": [],
   "source": [
    "#dado el importe total de ventas realizadas por un trabajador \n",
    "salario_str = input(\"Ingrese el salario del trabajador: \")\n",
    "# Validar que la entrada sea un número\n",
    "if not salario_str.isdigit():\n",
    "    print(\"Por favor, ingrese un salario válido (número).\")\n",
    "else:\n",
    "    salario = float(salario_str)\n",
    "\n",
    "    if salario >= 0 and salario < 1000:\n",
    "        categoria = 'Categoría A'\n",
    "    elif salario >= 1000 and salario < 2000:\n",
    "        categoria = 'Categoría B'\n",
    "    elif salario >= 2000 and salario < 5000:\n",
    "        categoria = 'Categoría C'\n",
    "    elif salario >= 5000:\n",
    "        categoria = 'Categoría D'\n",
    "    else:\n",
    "        categoria = 'Salario no válido'\n",
    "\n",
    "    print(f'La categoría del trabajador según su salario es: {categoria}')\n",
    "\n"
   ]
  },
  {
   "cell_type": "code",
   "execution_count": null,
   "id": "c6cb2123",
   "metadata": {},
   "outputs": [],
   "source": []
  }
 ],
 "metadata": {
  "kernelspec": {
   "display_name": "Python 3 (ipykernel)",
   "language": "python",
   "name": "python3"
  },
  "language_info": {
   "codemirror_mode": {
    "name": "ipython",
    "version": 3
   },
   "file_extension": ".py",
   "mimetype": "text/x-python",
   "name": "python",
   "nbconvert_exporter": "python",
   "pygments_lexer": "ipython3",
   "version": "3.9.12"
  }
 },
 "nbformat": 4,
 "nbformat_minor": 5
}
